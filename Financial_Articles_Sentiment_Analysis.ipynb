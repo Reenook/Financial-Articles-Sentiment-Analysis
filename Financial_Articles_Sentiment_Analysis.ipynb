{
  "nbformat": 4,
  "nbformat_minor": 0,
  "metadata": {
    "colab": {
      "provenance": [],
      "authorship_tag": "ABX9TyPWTyD3rpyJZPGy6+ZDz3m9"
    },
    "kernelspec": {
      "name": "python3",
      "display_name": "Python 3"
    },
    "language_info": {
      "name": "python"
    }
  },
  "cells": [
    {
      "cell_type": "code",
      "source": [
        "pip install feedparser"
      ],
      "metadata": {
        "colab": {
          "base_uri": "https://localhost:8080/"
        },
        "id": "71YYMq33kVVD",
        "outputId": "ada00a6d-b8f1-41a9-d126-57b88c9db381"
      },
      "execution_count": 15,
      "outputs": [
        {
          "output_type": "stream",
          "name": "stdout",
          "text": [
            "Requirement already satisfied: feedparser in /usr/local/lib/python3.11/dist-packages (6.0.11)\n",
            "Requirement already satisfied: sgmllib3k in /usr/local/lib/python3.11/dist-packages (from feedparser) (1.0.0)\n"
          ]
        }
      ]
    },
    {
      "cell_type": "code",
      "source": [
        "import feedparser"
      ],
      "metadata": {
        "id": "quwZH_mqh5Ri"
      },
      "execution_count": 16,
      "outputs": []
    },
    {
      "cell_type": "markdown",
      "source": [
        "**Loading the finbert model into our project using hugging face transformers**"
      ],
      "metadata": {
        "id": "05TwqvRClAtz"
      }
    },
    {
      "cell_type": "code",
      "source": [
        "# Use a pipeline as a high-level helper\n",
        "from transformers import pipeline\n",
        "\n",
        "pipe = pipeline(\"text-classification\", model=\"ProsusAI/finbert\")"
      ],
      "metadata": {
        "colab": {
          "base_uri": "https://localhost:8080/"
        },
        "id": "sIdwYatWiDKi",
        "outputId": "2b86455c-39bd-4507-c53a-5bd21198327e"
      },
      "execution_count": 17,
      "outputs": [
        {
          "output_type": "stream",
          "name": "stderr",
          "text": [
            "Device set to use cpu\n"
          ]
        }
      ]
    },
    {
      "cell_type": "markdown",
      "source": [
        "**Using an RSS feed and the yahoo finance api we will us the ticker symbol and keyword for NVIDIA to get financial news articles from yahoo and then using Finbert to perform sentiment analysis on these articles**"
      ],
      "metadata": {
        "id": "IMmW2cJ-sod8"
      }
    },
    {
      "cell_type": "markdown",
      "source": [
        "**Ticker symbols for other companies can be found here:** https://finance.yahoo.com/lookup/"
      ],
      "metadata": {
        "id": "mCZWsz1fuEzK"
      }
    },
    {
      "cell_type": "code",
      "source": [
        "ticker='NVDA'\n",
        "keyword='nvidia'\n",
        "rss_url = f'https://finance.yahoo.com/rss/headline?s={ticker}'"
      ],
      "metadata": {
        "id": "-UZq5BZ1ktG8"
      },
      "execution_count": 41,
      "outputs": []
    },
    {
      "cell_type": "code",
      "source": [
        "feed=feedparser.parse(rss_url)"
      ],
      "metadata": {
        "id": "0jzjdOc0mj3i"
      },
      "execution_count": 42,
      "outputs": []
    },
    {
      "cell_type": "markdown",
      "source": [
        "**The sentiment will be positive if the value of the final score is greater then or equals to 0.15 and will be negative if its less then or equals to -0.15 otherwise it will be classified as neutral**"
      ],
      "metadata": {
        "id": "CmAckse_tWCt"
      }
    },
    {
      "cell_type": "code",
      "source": [
        "total_score = 0\n",
        "num_articles = 0\n",
        "\n",
        "for i, entry in enumerate(feed.entries):\n",
        "    if keyword.lower() not in entry.summary.lower():\n",
        "        continue\n",
        "    print(f'Title: {entry.title}')\n",
        "    print(f'Link: {entry.link}')\n",
        "    print(f'Published: {entry.published}')\n",
        "    print(f'Summary: {entry.summary}')\n",
        "\n",
        "    sentiment = pipe(entry.summary)[0]\n",
        "    print(f'Sentiment: {sentiment[\"label\"]}, Score: {sentiment[\"score\"]}')\n",
        "    print('-' * 40)\n",
        "\n",
        "\n",
        "    if sentiment['label'] == 'positive':\n",
        "      total_score += sentiment['score']\n",
        "      num_articles +=1\n",
        "    elif sentiment['label'] == 'negative':\n",
        "      total_score-= sentiment['score']\n",
        "      num_articles +=1\n",
        "\n",
        "\n",
        "    final_score = total_score / num_articles\n",
        "    print(f'Overall Sentiment: {\"Positive\" if final_score >= 0.15 else \"Negative\" if final_score <= -0.15 else \"Neutral\"} ({final_score})')\n"
      ],
      "metadata": {
        "id": "yI309d2vmug8",
        "colab": {
          "base_uri": "https://localhost:8080/"
        },
        "outputId": "d1fec821-f1a5-42ff-8fad-25ff1fc98a98"
      },
      "execution_count": 44,
      "outputs": [
        {
          "output_type": "stream",
          "name": "stdout",
          "text": [
            "Title: Nvidia Stock Up As Tech Giant Widens Competitive Moat With AI Advances\n",
            "Link: https://finance.yahoo.com/m/0a5ceea5-cbb0-331f-b9a4-23c36ef92102/nvidia-stock-up-as-tech-giant.html?.tsrc=rss\n",
            "Published: Wed, 19 Mar 2025 13:39:08 +0000\n",
            "Summary: Nvidia wowed technologists with its advancements in artificial intelligence and accelerated computing on Tuesday.\n",
            "Sentiment: positive, Score: 0.8420255780220032\n",
            "----------------------------------------\n",
            "Overall Sentiment: Positive (0.8420255780220032)\n",
            "Title: Nvidia stock stems losses as GTC leaves Wall Street analysts 'comfortable with long term AI demand'\n",
            "Link: https://finance.yahoo.com/news/nvidia-stock-stems-losses-as-gtc-leaves-wall-street-analysts-comfortable-with-long-term-ai-demand-132448742.html?.tsrc=rss\n",
            "Published: Wed, 19 Mar 2025 13:24:48 +0000\n",
            "Summary: Nvidia stock reversed direction after a two-day slide that saw shares lose 5% as the AI chipmaker’s annual GTC conference failed to excite investors amid a broader market downturn.\n",
            "Sentiment: negative, Score: 0.9681413769721985\n",
            "----------------------------------------\n",
            "Overall Sentiment: Neutral (-0.06305789947509766)\n",
            "Title: Fed decision, Nvidia unveils chips, Meta declines: 3 Things\n",
            "Link: https://finance.yahoo.com/video/fed-decision-nvidia-unveils-chips-130740436.html?.tsrc=rss\n",
            "Published: Wed, 19 Mar 2025 13:07:40 +0000\n",
            "Summary: US stock futures (ES=F, NQ=F, YM=F) hover in positive territory in Wednesday's pre-market ahead of the Federal Reserve's next interest rate decision to come later today as the central bank is expected to hold rates steady. Nvidia (NVDA) CEO Jensen Huang previewed the next generation of semiconductors in his keynote speech at the chip giant's 2025 GTC event. The Magnificent Seven — the tech stock grouping comprised of Meta Platforms (META), Microsoft (MSFT), Alphabet (GOOGL, GOOG), Amazon (AMZN), Apple (AAPL), Nvidia (NVDA), Tesla (TSLA) — is dragged lower after Facebook-parent company Meta stock erases year-to-date gains seen in 2025. To watch more expert insights and analysis on the latest market action, check out more Morning Brief here.\n",
            "Sentiment: negative, Score: 0.768212080001831\n",
            "----------------------------------------\n",
            "Overall Sentiment: Negative (-0.2981092929840088)\n",
            "Title: NVIDIA and GE HealthCare team up for autonomous diagnostic imaging\n",
            "Link: https://www.medicaldevice-network.com/news/nvidia-ge-healthcare-team-up-for-autonomous-diagnostic-imaging/?.tsrc=rss\n",
            "Published: Wed, 19 Mar 2025 13:00:14 +0000\n",
            "Summary: GE HealthCare will use Nvidia’s AI tools to expand access to X-ray and ultrasound technology.\n",
            "Sentiment: positive, Score: 0.7947151064872742\n",
            "----------------------------------------\n",
            "Overall Sentiment: Neutral (-0.02490319311618805)\n",
            "Title: Nvidia stock: Here's the next potential catalyst\n",
            "Link: https://finance.yahoo.com/news/nvidia-stock-heres-the-next-potential-catalyst-125637217.html?.tsrc=rss\n",
            "Published: Wed, 19 Mar 2025 12:56:37 +0000\n",
            "Summary: What's the next big catalyst for Nvidia?\n",
            "Sentiment: neutral, Score: 0.9324984550476074\n",
            "----------------------------------------\n",
            "Overall Sentiment: Neutral (-0.02490319311618805)\n",
            "Title: GM partners with Nvidia to bring AI to robots and factories\n",
            "Link: https://www.just-auto.com/news/gm-nvidia-ai-factories/?.tsrc=rss\n",
            "Published: Wed, 19 Mar 2025 12:55:23 +0000\n",
            "Summary: The collaboration will focus on building custom AI systems for GM using Nvidia's compute platforms to optimise factory planning and robotics.\n",
            "Sentiment: neutral, Score: 0.7502004504203796\n",
            "----------------------------------------\n",
            "Overall Sentiment: Neutral (-0.02490319311618805)\n",
            "Title: Nvidia, xAI to Join BlackRock and Microsoft's $30 Billion AI Infrastructure Fund\n",
            "Link: https://www.investopedia.com/nvidia-xai-to-join-blackrock-microsoft-usd30-billion-ai-infrastructure-deal-11699581?.tsrc=rss\n",
            "Published: Wed, 19 Mar 2025 12:49:58 +0000\n",
            "Summary: Nvidia and xAI are set to join a partnership between BlackRock and Microsoft to invest billions in growing the infrastructure needed to power artificial intelligence projects.\n",
            "Sentiment: positive, Score: 0.7218272089958191\n",
            "----------------------------------------\n",
            "Overall Sentiment: Neutral (0.12444288730621338)\n",
            "Title: Nvidia CEO Jensen Huang says we'll soon see 1 million GPU data centers visible from space\n",
            "Link: https://finance.yahoo.com/news/nvidia-ceo-jensen-huang-says-well-soon-see-1-million-gpu-data-centers-visible-from-space-123801629.html?.tsrc=rss\n",
            "Published: Wed, 19 Mar 2025 12:38:01 +0000\n",
            "Summary: Nvidia CEO Jensen Huang says the company is preparing for 1 million GPU data centers.\n",
            "Sentiment: neutral, Score: 0.6495943665504456\n",
            "----------------------------------------\n",
            "Overall Sentiment: Neutral (0.12444288730621338)\n",
            "Title: Microsoft, Google and Oracle Deepen Nvidia Partnerships. But This Stock Got the Biggest GTC Boost.\n",
            "Link: https://finance.yahoo.com/m/9de496c2-752c-38ca-aa1e-5857ae9f1234/microsoft%2C-google-and-oracle.html?.tsrc=rss\n",
            "Published: Wed, 19 Mar 2025 12:23:00 +0000\n",
            "Summary: Microsoft, Google, Oracle and General Motors were among the companies publicizing their partnership with Nvidia but a different stock was moving off the back of the GTC event.\n",
            "Sentiment: neutral, Score: 0.5740273594856262\n",
            "----------------------------------------\n",
            "Overall Sentiment: Neutral (0.12444288730621338)\n",
            "Title: IBM Partners with NVIDIA to Supercharge Generative AI Workloads\n",
            "Link: https://finance.yahoo.com/news/ibm-partners-nvidia-supercharge-generative-121927601.html?.tsrc=rss\n",
            "Published: Wed, 19 Mar 2025 12:19:27 +0000\n",
            "Summary: IBM Teams Up with NVIDIA to Accelerate AI Innovation and Data Governance\n",
            "Sentiment: positive, Score: 0.8703593611717224\n",
            "----------------------------------------\n",
            "Overall Sentiment: Positive (0.24876229961713156)\n",
            "Title: Nvidia Announces Rubin AI Chips for 2026, Trillion-Dollar Data Center Boom\n",
            "Link: https://finance.yahoo.com/news/nvidia-announces-rubin-ai-chips-121425860.html?.tsrc=rss\n",
            "Published: Wed, 19 Mar 2025 12:14:25 +0000\n",
            "Summary: Nvidia Discusses AI Breakthroughs, Blackwell GPU Sales Surge at GTC 2025\n",
            "Sentiment: positive, Score: 0.7408595085144043\n",
            "----------------------------------------\n",
            "Overall Sentiment: Positive (0.3190619008881705)\n",
            "Title: New AI bet from tech upstart could be a major blow to Nvidia\n",
            "Link: https://www.thestreet.com/technology/new-ai-bet-from-tech-upstart-could-be-a-major-blow-to-nvidia?.tsrc=rss\n",
            "Published: Wed, 19 Mar 2025 12:07:00 +0000\n",
            "Summary: An industry leader and a startup stand to benefit while Nvidia stands to lose.\n",
            "Sentiment: positive, Score: 0.5340491533279419\n",
            "----------------------------------------\n",
            "Overall Sentiment: Positive (0.34593530744314194)\n",
            "Title: Why Nvidia GTC really isn’t so bearish\n",
            "Link: https://finance.yahoo.com/video/why-nvidia-gtc-really-isn-120655607.html?.tsrc=rss\n",
            "Published: Wed, 19 Mar 2025 12:06:55 +0000\n",
            "Summary: Nvidia (NVDA) had a little bit of everything for investors at its annual GTC event on Tuesday afternoon. For one, there was great theater such as CEO Jensen Huang donning his trademark black leather jacket while giving out t-shirts from a t-shirt blaster. There were also a lot of large numbers tossed around, especially a prediction of the AI infrastructure buildout reaching $1 trillion by 2028. The company even took the wraps off a host of more powerful chips to hit the market in the next few years in Blackwell Ultra and Rubin. Yet, Nvidia’s stock declined 3% by the close of trading despite what was a reaffirmation of the Nvidia growth story. So what gives here with the world’s most important stock? Yahoo Finance Executive Editor Brian Sozzi sits down on the Opening Bid podcast with EMJ Capital founder Eric Jackson. Jackson shares his latest thinking on Nvidia and whether the bull run is poised to return…and when. For full episodes of Opening Bid, listen on your favorite podcast platform or watch on our website. This post was written by Langston Sessoms, producer for Opening Bid.\n",
            "Sentiment: negative, Score: 0.8863523602485657\n",
            "----------------------------------------\n",
            "Overall Sentiment: Positive (0.20901445547739664)\n",
            "Title: Where Will Nvidia Stock Be in 1 Year?\n",
            "Link: https://www.fool.com/investing/2025/03/19/where-will-nvidia-stock-be-in-1-year/?source=eptyholnk0000202&utm_source=yahoo-host-full&utm_medium=feed&utm_campaign=article&referring_guid=02d0c6d1-30ab-46ab-b117-cc25033379f9&.tsrc=rss\n",
            "Published: Wed, 19 Mar 2025 11:45:00 +0000\n",
            "Summary: Nvidia stock has been sliding throughout 2025.\n",
            "Sentiment: negative, Score: 0.9749245643615723\n",
            "----------------------------------------\n",
            "Overall Sentiment: Neutral (0.09062055349349976)\n"
          ]
        }
      ]
    }
  ]
}